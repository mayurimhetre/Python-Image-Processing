{
 "cells": [
  {
   "cell_type": "code",
   "execution_count": 10,
   "id": "46bdff8a",
   "metadata": {},
   "outputs": [],
   "source": [
    "import cv2\n",
    "import numpy as np\n",
    "\n",
    "################# FUNCTION \n",
    "\n",
    "def draw_circle(event,x,y,flgs,params):\n",
    "    if event == cv2.EVENT_LBUTTONDOWN:\n",
    "        cv2.circle(img,(x,y),20,(255,0,0),-1)\n",
    "    elif event == cv2.EVENT_RBUTTONDOWN:\n",
    "        cv2.circle(img,(x,y),40,(0,255,0),-1)\n",
    "\n",
    "cv2.namedWindow('names')\n",
    "cv2.setMouseCallback('names',draw_circle)\n",
    "\n",
    "################### showing image\n",
    "\n",
    "img = np.zeros((512,512,3),dtype= np.int8)\n",
    "\n",
    "while True:\n",
    "\n",
    "    cv2.imshow('names',img)\n",
    "\n",
    "    if cv2.waitKey(20) & 0xFF == ord('q'):\n",
    "        break\n",
    "cv2.destroyAllWindows()"
   ]
  },
  {
   "cell_type": "code",
   "execution_count": 2,
   "id": "f4fdb27f",
   "metadata": {},
   "outputs": [
    {
     "data": {
      "text/plain": [
       "<matplotlib.image.AxesImage at 0x19e59dcbb20>"
      ]
     },
     "execution_count": 2,
     "metadata": {},
     "output_type": "execute_result"
    },
    {
     "data": {
      "image/png": "[encoded data removed]",
      "text/plain": [
       "<Figure size 432x288 with 1 Axes>"
      ]
     },
     "metadata": {
      "needs_background": "light"
     },
     "output_type": "display_data"
    }
   ],
   "source": [
    "import matplotlib.pyplot as plt\n",
    "plt.imshow(img)"
   ]
  },
  {
   "cell_type": "code",
   "execution_count": 20,
   "id": "4cacff73",
   "metadata": {},
   "outputs": [],
   "source": [
    "import cv2\n",
    "import numpy as np\n",
    "\n",
    "\n",
    "ix,iy = -1,-1\n",
    "draw=False\n",
    "################# FUNCTION Rectangle\n",
    "\n",
    "def draw_rectangle(event,x,y,flgs,params):\n",
    "    global ix,iy,draw\n",
    "    if event == cv2.EVENT_LBUTTONDOWN:\n",
    "        draw= True\n",
    "        ix,iy = x,y\n",
    "        \n",
    "    elif event == cv2.EVENT_MOUSEMOVE:\n",
    "        if draw == True:\n",
    "            cv2.rectangle(img,(ix,iy),(x,y),(0,255,0),-1)\n",
    "    \n",
    "    elif event == cv2.EVENT_LBUTTONUP:\n",
    "        draw= False\n",
    "        #cv2.rectangle(img,(ix,iy),(x,y),(0,255,0),-1)\n",
    "        \n",
    "    #### drawing a red cirsle also ######\n",
    "    elif event == cv2.EVENT_RBUTTONDOWN:\n",
    "        draw= False\n",
    "        cv2.circle(img,(x,y),40,(0,0,255),3)\n",
    "\n",
    "cv2.namedWindow('names')\n",
    "cv2.setMouseCallback('names',draw_rectangle)\n",
    "\n",
    "################### showing image\n",
    "\n",
    "img = np.zeros((512,512,3),dtype= np.int8)\n",
    "\n",
    "while True:\n",
    "\n",
    "    cv2.imshow('names',img)\n",
    "\n",
    "    if cv2.waitKey(20) & 0xFF == ord('q'):\n",
    "        break\n",
    "cv2.destroyAllWindows()"
   ]
  },
  {
   "cell_type": "code",
   "execution_count": null,
   "id": "b5471761",
   "metadata": {},
   "outputs": [],
   "source": []
  }
 ],
 "metadata": {
  "kernelspec": {
   "display_name": "Python 3",
   "language": "python",
   "name": "python3"
  },
  "language_info": {
   "codemirror_mode": {
    "name": "ipython",
    "version": 3
   },
   "file_extension": ".py",
   "mimetype": "text/x-python",
   "name": "python",
   "nbconvert_exporter": "python",
   "pygments_lexer": "ipython3",
   "version": "3.9.5"
  }
 },
 "nbformat": 4,
 "nbformat_minor": 5
}
